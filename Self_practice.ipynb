{
 "cells": [
  {
   "cell_type": "markdown",
   "metadata": {},
   "source": [
    "> ## Self practice leetcode"
   ]
  },
  {
   "cell_type": "markdown",
   "metadata": {},
   "source": [
    "### Q1 : צור פונקציה היוצרת 2 אינפוטים , אחד למספרים (שונים) והשני למטרה . הפונקציה תוציא פלט של האינדקס של 2 המספרים שסכומם יוצר את המטרה"
   ]
  },
  {
   "cell_type": "code",
   "execution_count": 2,
   "metadata": {},
   "outputs": [
    {
     "name": "stdin",
     "output_type": "stream",
     "text": [
      "write your target number here  14\n",
      "write at least 3 different numbers  17555574\n"
     ]
    },
    {
     "name": "stdout",
     "output_type": "stream",
     "text": [
      "None\n"
     ]
    }
   ],
   "source": [
    "def towsum():\n",
    "    int1 = int(input(\"write your target number here \"))\n",
    "    list1 = list(input(\"write at least 3 different numbers \"))\n",
    "    for i in range(0,len(list1)):\n",
    "        list1[i] = int(list1[i])\n",
    "    for i in list1:\n",
    "        for j in list1:\n",
    "            if i != j and i + j == int1:\n",
    "                return(list1.index(i),list1.index(j))\n",
    "    \n",
    "\n",
    "print(towsum())"
   ]
  },
  {
   "cell_type": "markdown",
   "metadata": {},
   "source": [
    "#### פיתרון עם eval"
   ]
  },
  {
   "cell_type": "code",
   "execution_count": 5,
   "metadata": {},
   "outputs": [
    {
     "name": "stdin",
     "output_type": "stream",
     "text": [
      "write your target number here  14\n",
      "write at least 3 different numbers  852146\n"
     ]
    },
    {
     "name": "stdout",
     "output_type": "stream",
     "text": [
      "(0, 5)\n"
     ]
    }
   ],
   "source": [
    "def towsum():\n",
    "    int1 = int(input(\"write your target number here \"))\n",
    "    list1 = list(input(\"write at least 3 different numbers \"))\n",
    "    numlist = [eval(i) for i in list1]\n",
    "    for i in numlist:\n",
    "        for j in numlist:\n",
    "            if i != j and i + j == int1:\n",
    "                return(numlist.index(i),numlist.index(j))\n",
    "    \n",
    "\n",
    "print(towsum())"
   ]
  },
  {
   "cell_type": "markdown",
   "metadata": {},
   "source": [
    "### כשהמספרים יכולים להיות זהים"
   ]
  },
  {
   "cell_type": "code",
   "execution_count": 3,
   "metadata": {},
   "outputs": [
    {
     "name": "stdin",
     "output_type": "stream",
     "text": [
      "write the target  14\n",
      "write the numbers  717\n"
     ]
    },
    {
     "name": "stdout",
     "output_type": "stream",
     "text": [
      "0 2\n",
      "0 2\n"
     ]
    }
   ],
   "source": [
    "target = int(input(\"write the target \"))\n",
    "list1 = list(input(\"write the numbers \"))\n",
    "list1 = [int(num) for num in list1]  \n",
    "for i in list1:\n",
    "    last_index = list1.index(i)\n",
    "    for j in list1[list1.index(i)+1:]:\n",
    "        if i+j==target and i != j :\n",
    "            print(list1.index(i),list1.index(j))\n",
    "        elif i+j==target and i==j:\n",
    "            print(list1.index(i),last_index + 1)\n",
    "        else:\n",
    "            last_index +=1"
   ]
  },
  {
   "cell_type": "markdown",
   "metadata": {},
   "source": [
    "### Q2: צור פונקציה המקבלת 2 רשימות מספרים,מצמידה את כל האיברים מהסוף להתחלה וסוכמת את 2 הרשימות ולאחר מכן הופכת חזרה את הרשימה"
   ]
  },
  {
   "cell_type": "code",
   "execution_count": 7,
   "metadata": {},
   "outputs": [
    {
     "name": "stdin",
     "output_type": "stream",
     "text": [
      "write list of few numbers :  8544\n",
      "write another list of few numbers :  1244\n"
     ]
    },
    {
     "name": "stdout",
     "output_type": "stream",
     "text": [
      "8879\n"
     ]
    }
   ],
   "source": [
    "def sumrevlis():\n",
    "    lis1 = input(\"write list of few numbers : \")\n",
    "    lis2 = input(\"write another list of few numbers : \")\n",
    "    sumnum = list((str(int(lis1)+int(lis2))))\n",
    "    sumnum.reverse()\n",
    "    endnum = \n",
    "    return endnum\n",
    "print(sumrevlis())"
   ]
  },
  {
   "cell_type": "markdown",
   "metadata": {},
   "source": [
    "### Q3 : צור פונקציה המקבלת רשימה של תווים ומחזירה את הרצף הגבווה ביותר של התווים מתוך הרשימה מבלי שיחזור על עצמו אף תו"
   ]
  },
  {
   "cell_type": "code",
   "execution_count": 8,
   "metadata": {},
   "outputs": [
    {
     "name": "stdin",
     "output_type": "stream",
     "text": [
      "write here few Characters -  abcdbyturiyqlmnwq\n"
     ]
    },
    {
     "name": "stdout",
     "output_type": "stream",
     "text": [
      "turiyqlmnw\n"
     ]
    }
   ],
   "source": [
    "def func():\n",
    "   lis1 = input(\"write here few Characters - \")\n",
    "   longest = []\n",
    "   dict_longest = {}\n",
    "   for i in lis1:\n",
    "       if i in longest:\n",
    "           word = \"\".join(longest)\n",
    "           dict_longest[word] = len(word)\n",
    "           #לולאה שמורידה ברוורס את כל האיברים הקודמים לאיבר הזהה ומבודדת את החלק הרלוונטי של המילה\n",
    "            for j in range(longest.index(i), -1, -1):\n",
    "               longest.pop(j)\n",
    "           longest.append(i)\n",
    "       else:\n",
    "           longest.append(i)\n",
    "   return max(dict_longest, key = dict_longest.get)\n",
    "\n",
    "print(func())"
   ]
  },
  {
   "cell_type": "markdown",
   "metadata": {},
   "source": [
    "### Q4: צור פונקציה שמקבלת 2 רשימות של מספרים, מאחדת ביניהם ומוציאה את החציון"
   ]
  },
  {
   "cell_type": "code",
   "execution_count": 10,
   "metadata": {},
   "outputs": [
    {
     "name": "stdin",
     "output_type": "stream",
     "text": [
      "write list of few numbers 1 2 3\n",
      "write list of few numbers 9 8 6\n"
     ]
    },
    {
     "name": "stdout",
     "output_type": "stream",
     "text": [
      "4.5\n"
     ]
    }
   ],
   "source": [
    "import statistics\n",
    "from statistics import median as med\n",
    "def lismed():\n",
    "    lis1 = input(\"Write a space-separated list of numbers\").split()\n",
    "    lis2 = input(\"Write new space-separated list of numbers\").split()\n",
    "    numlis1 = [eval(i) for i in lis1]\n",
    "    numlis2 = [eval(i) for i in lis2]\n",
    "    numlis = numlis1 + numlis2\n",
    "    numlis.sort()\n",
    "    return med(numlis)\n",
    "\n",
    "print(lismed())"
   ]
  },
  {
   "cell_type": "markdown",
   "metadata": {},
   "source": [
    "#### בלי הספרייה של סטטיסטיקה"
   ]
  },
  {
   "cell_type": "code",
   "execution_count": 9,
   "metadata": {},
   "outputs": [
    {
     "name": "stdin",
     "output_type": "stream",
     "text": [
      "write list of few numbers 1 2 3\n",
      "write list of few numbers 99 55 44 77\n"
     ]
    },
    {
     "name": "stdout",
     "output_type": "stream",
     "text": [
      "44.0\n"
     ]
    }
   ],
   "source": [
    "def lismed():\n",
    "    lis1 = input(\"write list of few numbers\").split()\n",
    "    lis2 = input(\"write list of few numbers\").split()\n",
    "    numlis1 = [eval(i) for i in lis1]\n",
    "    numlis2 = [eval(i) for i in lis2]\n",
    "    numlis = numlis1 + numlis2\n",
    "    numlis.sort()\n",
    "    if len(numlis)%2==0:\n",
    "        a = numlis[:len(numlis)//2]\n",
    "        b = numlis[len(numlis)//2:]\n",
    "        c = (a[-1]+b[0])/2\n",
    "    else:\n",
    "        a = len(numlis) // 2\n",
    "        c = (numlis[a] + numlis[~a]) / 2\n",
    "    return c\n",
    "print(lismed())\n",
    "## אופרטור ~ גורם לכך שניגש למספר הנתון מהצד השלילי שלו והלאה, לדוגמא ~10 זה -11"
   ]
  },
  {
   "cell_type": "markdown",
   "metadata": {},
   "source": [
    "### Q5 : כתוב פונקציה המקבלת סטרינג ומציגה את הפילנדרום הארוך ביותר מתוך הסטרינג"
   ]
  },
  {
   "cell_type": "code",
   "execution_count": 3,
   "metadata": {},
   "outputs": [
    {
     "name": "stdout",
     "output_type": "stream",
     "text": [
      "fzfzfzf\n"
     ]
    }
   ],
   "source": [
    "def pol(lis1):\n",
    "    lis2 = lis1[::-1]\n",
    "    lis1 = list(lis1)\n",
    "    lis3 = []\n",
    "    n = 0\n",
    "    m = len(lis2)\n",
    "    z = []\n",
    "    for i in lis1:\n",
    "        a = lis2.find(i,n,m)\n",
    "        if a != -1 :\n",
    "            z.append(i)\n",
    "            n = a + 1\n",
    "            m = a + 2\n",
    "        else:\n",
    "            n = 0\n",
    "            m = len(lis2)\n",
    "            if len(z) != 0 :\n",
    "                pol1 = \"\".join(z)\n",
    "                lis3.append(pol1)\n",
    "                z.clear()\n",
    "            \n",
    "    return max(lis3, key=len) \n",
    "            \n",
    "print(pol(\"abadfzfzfzfz\"))\n"
   ]
  },
  {
   "cell_type": "markdown",
   "metadata": {},
   "source": [
    "### Q6 : כתוב פונקציה המקבלת סטרינג והופכת אותו למספר, על הפונקציה להתעלם מכל מה שלא מסםר שהוכנס אליה כולל סימני פיסוק ( מלבד +\\- בתחילת המספר)"
   ]
  },
  {
   "cell_type": "code",
   "execution_count": 13,
   "metadata": {},
   "outputs": [
    {
     "name": "stdout",
     "output_type": "stream",
     "text": [
      "12345\n"
     ]
    }
   ],
   "source": [
    "def strtoint(str1):\n",
    "    str1 = list(str1)\n",
    "    int1 = []\n",
    "    for i in str1:\n",
    "        if i.isnumeric() == True:\n",
    "            int1.append(i)\n",
    "        elif i == \"-\" or i == \"+\":\n",
    "            if len(int1) == 0 :\n",
    "                int1.append(i)\n",
    "    ans = int(\"\".join(int1))\n",
    "    print( ans)\n",
    "strtoint(\"1 23#4-5\")"
   ]
  },
  {
   "cell_type": "markdown",
   "metadata": {},
   "source": [
    "### Q7: צור פונקציה המקבלת 2 ערכים , N= תו P= תבנית. אם לפי האינדקס האיברים באותם המקומות בתבנית וברשימה זהים אז התוצאה תהיה TRUE. במידה ויש את התו * אז יכולים לבוא במקום שלו ואחכ אינסוף תווים שדומים לתו שהיה לפני זה , נקודה לעומת זאת יכולה להחליף הכלץ אם התוצאה לא נכונה ידפיס FALSE"
   ]
  },
  {
   "cell_type": "code",
   "execution_count": 14,
   "metadata": {},
   "outputs": [
    {
     "name": "stdout",
     "output_type": "stream",
     "text": [
      "True\n"
     ]
    }
   ],
   "source": [
    "def regexp(n,p):\n",
    "    n = list(n)\n",
    "    p = list(p)\n",
    "    a = \"\"\n",
    "    if len(n) == len(p):\n",
    "        for i,j in zip(n,p):\n",
    "            if i == j or j == \".\" or j == \"*\":\n",
    "                a = True\n",
    "            else:\n",
    "                a = False\n",
    "    elif len(n) > len(p) and p[-1] == \"*\" :\n",
    "        a = True\n",
    "    else:\n",
    "        a = False\n",
    "    print(a)\n",
    "regexp(\"aaaaaaaa\",\"a*\")"
   ]
  },
  {
   "cell_type": "markdown",
   "metadata": {},
   "source": [
    "### Q8 : צור פונקציה המקבלת רשימה של רשימות ומחזירה את כל האיברים בתור רשימה מאוחדת מסודרת"
   ]
  },
  {
   "cell_type": "code",
   "execution_count": 15,
   "metadata": {},
   "outputs": [
    {
     "name": "stdout",
     "output_type": "stream",
     "text": [
      "['*', '1', '2', '3', '7', 'a']\n"
     ]
    }
   ],
   "source": [
    "def merglist(list1):\n",
    "    flist = []\n",
    "    for i in list1 :\n",
    "        for j in i:\n",
    "            j = str(j)\n",
    "            flist.append(j)\n",
    "    flist.sort()        \n",
    "    print(flist)\n",
    "merglist([[1,2,3],[\"a\",7,\"*\"],[]])"
   ]
  },
  {
   "cell_type": "markdown",
   "metadata": {},
   "source": [
    "### Q9 : צור פונקציה המקבלת רשימה של מספרים ומחזירה את המספר החיובי הקטן ביותר שחסר"
   ]
  },
  {
   "cell_type": "code",
   "execution_count": 19,
   "metadata": {},
   "outputs": [
    {
     "name": "stdout",
     "output_type": "stream",
     "text": [
      "5\n"
     ]
    }
   ],
   "source": [
    "def solution(A):\n",
    "    list2 = []\n",
    "    ans:int\n",
    "    for i in A :\n",
    "        if 0 < i and i not in list2:\n",
    "            list2.append(i)   \n",
    "    list2.sort()\n",
    "    for i,j in zip(range(1,len(list2)+1),list2):\n",
    "        if i == j:\n",
    "            pass\n",
    "        else:\n",
    "            ans = i\n",
    "            break\n",
    "    return ans\n",
    "\n",
    "\n",
    "A = solution([1, 3, 6, 4, 1, 2])\n",
    "print(A)"
   ]
  },
  {
   "cell_type": "markdown",
   "metadata": {},
   "source": [
    "### Q10: צור פונקציה המייצגת את הגרלת הלוטו"
   ]
  },
  {
   "cell_type": "code",
   "execution_count": 8,
   "metadata": {},
   "outputs": [
    {
     "name": "stdout",
     "output_type": "stream",
     "text": [
      "you have 2 correct numbers, the coorect numbers is [30, 2, 36, 13, 28] and the strong number is 1\n"
     ]
    }
   ],
   "source": [
    "import random\n",
    "def lotto(list1,int1):\n",
    "    winnums = []\n",
    "    strongnum = random.randint(1,8)\n",
    "    correctnums = 0\n",
    "    for i in range(6):\n",
    "        n = random.randint(1,38)\n",
    "        if n not in winnums:\n",
    "            winnums.append(n)\n",
    "    for i in list1:\n",
    "        if i in winnums:\n",
    "            correctnums += 1\n",
    "    if correctnums == 6 and int1 == strongnum:\n",
    "        print(\"you won ! the numbers that you win with are\",list1,int1)\n",
    "    else:\n",
    "        print(\"you have\",correctnums,\"correct numbers, the coorect numbers is\",winnums,\"and the strong number is\",strongnum)\n",
    "\n",
    "\n",
    "lotto([1,2,3,4,30,6],7)\n",
    "    "
   ]
  },
  {
   "cell_type": "markdown",
   "metadata": {},
   "source": [
    "### הגרלת לוטו עם random.random"
   ]
  },
  {
   "cell_type": "code",
   "execution_count": 9,
   "metadata": {},
   "outputs": [
    {
     "name": "stdout",
     "output_type": "stream",
     "text": [
      "you have 3 correct numbers,the correct numbers are [34, 5, 16, 21, 9, 31, 35, 33, 28, 17, 4] and the strong number is 3\n"
     ]
    }
   ],
   "source": [
    "import random\n",
    "def lottofloat(lisnum,strongnum):\n",
    "    lottonums = []\n",
    "    correctnums = 0\n",
    "    lottostrnum = random.random()*7\n",
    "    lottostrnum = round(lottostrnum)\n",
    "    for i in lisnum:\n",
    "        i = int(i)\n",
    "    strongnum= int(i)\n",
    "    while len(lottonums) != 11 :\n",
    "        i = random.random()*36\n",
    "        i = round(i)\n",
    "        if i not in lottonums:\n",
    "            lottonums.append(i)\n",
    "    for i in lisnum :\n",
    "        if i in lottonums :\n",
    "            correctnums += 1\n",
    "    if strongnum == lottostrnum and correctnums == 11:\n",
    "        print(\"you won the BIG AWARD ! the numbers that won are\", lisnum,\"and the strong number is\",strongnum)\n",
    "    elif  strongnum != lottostrnum and correctnums == 11:\n",
    "        print(\"you have 11 correct numbers but the correct strong number is\",lottostrnum)\n",
    "    elif  correctnums != 11 :\n",
    "        print(\"you have\",correctnums,\"correct numbers,the correct numbers are\",lottonums,\"and the strong number is\",lottostrnum)\n",
    "lottofloat([1,2,3,4,5,6,7,8,9,10,11],11)"
   ]
  },
  {
   "cell_type": "markdown",
   "metadata": {},
   "source": [
    "### Q11: סדרת פיבונצאי רקורסיבית"
   ]
  },
  {
   "cell_type": "code",
   "execution_count": 5,
   "metadata": {},
   "outputs": [
    {
     "name": "stdout",
     "output_type": "stream",
     "text": [
      "0\n",
      "1\n",
      "1\n",
      "2\n",
      "3\n",
      "5\n",
      "8\n",
      "13\n",
      "21\n",
      "34\n"
     ]
    }
   ],
   "source": [
    "def fib(int1):\n",
    "    if int1 == 1 :\n",
    "        return 0\n",
    "    elif int1 == 2 :\n",
    "        return 1\n",
    "    else:\n",
    "        return fib(int1-1)+fib(int1-2)\n",
    "    \n",
    "for int1 in range(1,11):\n",
    "    print(fib(int1))"
   ]
  },
  {
   "cell_type": "markdown",
   "metadata": {},
   "source": [
    "### Q12: עצרת רקורסיה"
   ]
  },
  {
   "cell_type": "code",
   "execution_count": 6,
   "metadata": {},
   "outputs": [
    {
     "name": "stdout",
     "output_type": "stream",
     "text": [
      "6\n"
     ]
    }
   ],
   "source": [
    "def fact(n):\n",
    "    if n == 0 or n == 1 :\n",
    "        return 1\n",
    "    else:\n",
    "        return n * fact(n-1)\n",
    "    \n",
    "print(fact(3))"
   ]
  },
  {
   "cell_type": "markdown",
   "metadata": {},
   "source": [
    "### Q13: פירמידה"
   ]
  },
  {
   "cell_type": "code",
   "execution_count": 10,
   "metadata": {},
   "outputs": [
    {
     "name": "stdout",
     "output_type": "stream",
     "text": [
      "               *\n",
      "              ***\n",
      "             *****\n",
      "            *******\n",
      "           *********\n",
      "          ***********\n",
      "         *************\n",
      "        ***************\n"
     ]
    }
   ],
   "source": [
    "def per(x):\n",
    "    numlis = []\n",
    "    if x%2 == 0:\n",
    "        for i in range(x+1):\n",
    "            if i%2 == 0:\n",
    "                numlis.append(i)\n",
    "        numlis.sort()\n",
    "        for i in numlis:\n",
    "                print(x*\" \"+i*\"*\")\n",
    "                x -= 1\n",
    "    else:\n",
    "        for i in range(x+1):\n",
    "            if i%2 == 1 :\n",
    "                numlis.append(i)\n",
    "            numlis.sort()\n",
    "        for i in numlis:\n",
    "            print(x*\" \"+i*\"*\")\n",
    "            x -= 1\n",
    "            \n",
    "\n",
    "\n",
    "per(15) "
   ]
  },
  {
   "cell_type": "markdown",
   "metadata": {},
   "source": [
    "### Q14: צור פונקציה המקבלת 2 מחרוזות ומחזירה את מספר האינדקסים הזהים באותן מחרוזות"
   ]
  },
  {
   "cell_type": "code",
   "execution_count": 11,
   "metadata": {},
   "outputs": [
    {
     "name": "stdout",
     "output_type": "stream",
     "text": [
      "2\n"
     ]
    }
   ],
   "source": [
    "def clostr(str1,str2):\n",
    "    lis1 = list(str1)\n",
    "    lis2 = list(str2)\n",
    "    ans = 0\n",
    "    for i,j in zip(lis1,lis2):\n",
    "        if i == j :\n",
    "            ans += 1\n",
    "    print(ans)\n",
    "\n",
    "\n",
    "clostr(\"drd\",\"drop\")"
   ]
  },
  {
   "cell_type": "markdown",
   "metadata": {},
   "source": [
    "### Q15: צור פונקציה המקבלת אינסוף מחרוזות ומחזירה את 2 המחרוזות עם מספר התווים הדומים הגבוה ביותר"
   ]
  },
  {
   "cell_type": "code",
   "execution_count": 12,
   "metadata": {},
   "outputs": [
    {
     "name": "stdout",
     "output_type": "stream",
     "text": [
      "['s', 't', 'r', 'i'] ['s', 't', 'r', 'a'] 3\n"
     ]
    }
   ],
   "source": [
    "\n",
    "def closlists(sublis):\n",
    "    samestr = 0\n",
    "    ans = 0\n",
    "    for i in sublis:\n",
    "        for j in sublis:\n",
    "            if i != j :\n",
    "                    lis1 = list(i)\n",
    "                    lis2 = list(j)\n",
    "                    ans = 0\n",
    "                    for i,j in zip(lis1,lis2):\n",
    "                        if i == j :\n",
    "                            ans += 1\n",
    "                    if ans > samestr:\n",
    "                        lis3 = lis1\n",
    "                        lis4 = lis2\n",
    "                        samestr = ans\n",
    "                    else:\n",
    "                        continue\n",
    "    print(lis3,lis4,samestr)\n",
    "\n",
    "closlists([\"stra\",\"star\",\"stri\"])"
   ]
  },
  {
   "cell_type": "markdown",
   "metadata": {},
   "source": [
    "### Q16: צור פונקציה המקבלת רשימה ומחזירה רשימה חדשה שבמקום כל תו יהיה רשום מספםר התווים שקטנים ממנו משמאלו ברשימה המקורית"
   ]
  },
  {
   "cell_type": "code",
   "execution_count": 14,
   "metadata": {},
   "outputs": [
    {
     "name": "stdout",
     "output_type": "stream",
     "text": [
      "[0, 0]\n"
     ]
    }
   ],
   "source": [
    "def smallfromright(lis1):\n",
    "    lisans = []\n",
    "    n = len(lis1)\n",
    "    for i in lis1: \n",
    "        m = 1\n",
    "        ans = 0\n",
    "        while m < n:\n",
    "            j = lis1[lis1.index(i) + m]\n",
    "            if i > j:\n",
    "                ans += 1\n",
    "                m += 1\n",
    "            else:\n",
    "                m += 1\n",
    "        else:\n",
    "            m == len(lis1)\n",
    "            lisans.append(ans)\n",
    "            n = n - 1\n",
    "    print(lisans)\n",
    "\n",
    "smallfromright([-1,-1])\n",
    "\n"
   ]
  },
  {
   "cell_type": "markdown",
   "metadata": {},
   "source": [
    "### Q17: צור פונקציה המקבלת מחרוזת מספרים וחלון של כמות מספרים מסוימת. על הפומנקתיה להוציא את המספר המקסימלי מכל חלון . כשהחלון מתקדם מספר אחד בכל פעם."
   ]
  },
  {
   "cell_type": "code",
   "execution_count": 15,
   "metadata": {},
   "outputs": [
    {
     "name": "stdout",
     "output_type": "stream",
     "text": [
      "[3, 3, 5, 5, 6, 7]\n"
     ]
    }
   ],
   "source": [
    "def wind3(lis1,k):\n",
    "    lis2 = []\n",
    "    lisans = []\n",
    "    while len(lis2) < k:\n",
    "        if len(lis1) >= k:\n",
    "            for i in lis1:\n",
    "                z = lis1.index(i)\n",
    "                m = k-1\n",
    "                if len(lis2) < k and z != m :\n",
    "                    lis2.append(i)\n",
    "                elif z == m :\n",
    "                    lis2.append(i)\n",
    "                    maxnum = max(lis2)\n",
    "                    lisans.append(maxnum)\n",
    "                    lis2 = []\n",
    "                    firstnum = lis1[0]\n",
    "                    lis1.remove(firstnum)\n",
    "                    break    \n",
    "        else:\n",
    "            print(lisans)\n",
    "            break\n",
    "wind3([1,3,-1,-3,5,3,6,7], 3)\n"
   ]
  },
  {
   "cell_type": "markdown",
   "metadata": {},
   "source": [
    "### Q18: צור פונקציה המקבלת מספר ומוציאה את כמות ריבועי המספרים השלמים המינימלית שצריך כדי להרכיב מספר זה"
   ]
  },
  {
   "cell_type": "code",
   "execution_count": 16,
   "metadata": {},
   "outputs": [
    {
     "name": "stdout",
     "output_type": "stream",
     "text": [
      "2\n"
     ]
    }
   ],
   "source": [
    "def numsqu(int1):\n",
    "    numlis = []\n",
    "    finallis = []\n",
    "    ans1 = 0\n",
    "    for i in range(1,10**5):\n",
    "        numlis.append(i**2)\n",
    "   \n",
    "    if int1 in numlis:\n",
    "       print(1)\n",
    "    else:\n",
    "        for i in numlis:\n",
    "            if i < int1:\n",
    "                finallis.append(i)\n",
    "    \n",
    "        finallis = finallis[::-1]\n",
    "        for i in finallis:\n",
    "            if int1%i == 0:\n",
    "                ans2 = int1/i\n",
    "                break\n",
    "        for i in finallis:\n",
    "            while i <= int1:\n",
    "                ans1 += 1\n",
    "                int1 = int1 - i\n",
    "            else:\n",
    "                if int1 == 0:\n",
    "                    if ans1 < ans2:\n",
    "                        print(ans1)\n",
    "                        break\n",
    "                    else:\n",
    "                        print(ans2)\n",
    "                else:\n",
    "                   pass\n",
    "    \n",
    "numsqu(17)"
   ]
  },
  {
   "cell_type": "markdown",
   "metadata": {},
   "source": [
    "### Q19: צור פונקציה המקבלת רשימת מטבעות וסכום כסף ומוציאה את סכום המטבעות הנמצאים בצירוף המינימלי של אותו סכום עם אותם מטבעות"
   ]
  },
  {
   "cell_type": "code",
   "execution_count": 3,
   "metadata": {},
   "outputs": [
    {
     "name": "stdout",
     "output_type": "stream",
     "text": [
      "3.0\n"
     ]
    }
   ],
   "source": [
    "def coinchange(coinslist,num1):\n",
    "    ans = 0\n",
    "    coinslist.sort(reverse=True)\n",
    "    for i in coinslist:\n",
    "        if i > num1:\n",
    "            pass\n",
    "        elif num1%i == 0:\n",
    "            ans += num1/i\n",
    "            num1 = num1 - i\n",
    "        else:\n",
    "            num1 = num1 - i\n",
    "            ans += 1\n",
    "    print(ans)\n",
    "            \n",
    "coinchange([10,5,2,1,12],23)"
   ]
  },
  {
   "cell_type": "markdown",
   "metadata": {},
   "source": [
    "### Q20: צור פונקציה המקבלת רשימה ומספר שמייצג מקום ברשימה ומחזירה את הערך שנמצא באותו מקום (מבחינת גודל) של הרשימה המסודרת שניתנה"
   ]
  },
  {
   "cell_type": "code",
   "execution_count": 4,
   "metadata": {},
   "outputs": [
    {
     "name": "stdout",
     "output_type": "stream",
     "text": [
      "4\n"
     ]
    }
   ],
   "source": [
    "def numsize(lis1,num):\n",
    "    lis1.sort(reverse=True)\n",
    "    ans = lis1[num-1]\n",
    "    print(ans)\n",
    "\n",
    "numsize([3,2,3,1,2,4,5,5,6],4)"
   ]
  },
  {
   "cell_type": "markdown",
   "metadata": {},
   "source": [
    "### Q21: צור פונקציה המקבלת רשימה של רשימות המייצגות כל אחת נקודה על ציר איקס וציר ווי, הפונקציה צריכה להחזיר את מספר הנקודות המקסימלי שיושבות על אותו קו ישר"
   ]
  },
  {
   "cell_type": "code",
   "execution_count": 6,
   "metadata": {},
   "outputs": [
    {
     "name": "stdout",
     "output_type": "stream",
     "text": [
      "[[3, 2], [4, 1], [2, 3], [1, 4]]\n"
     ]
    }
   ],
   "source": [
    "import random\n",
    "def maxpoints(lispoints):\n",
    "    dictans = {}\n",
    "    for i in lispoints :\n",
    "        for j in lispoints:\n",
    "            deltax = i[0] - j[0]\n",
    "            deltay = i[1] - j[1]\n",
    "            if i != j and deltax != 0:\n",
    "                m = deltay/deltax\n",
    "                n = -i[0]*m + i[1]\n",
    "                key = random.randint(0,10**3)\n",
    "                dictans[key] = []\n",
    "                for z in lispoints:\n",
    "                    x = z[0]\n",
    "                    y = z[1]\n",
    "                    y2 = m*x + n\n",
    "                    if y2 == y and z not in dictans[key]:\n",
    "                        dictans[key].append(z)\n",
    "                        \n",
    "        longest = max(len(item) for item in dictans.values())\n",
    "        result = [item for item in dictans.values() if len(item) == longest]                   \n",
    "    print(result[0])\n",
    "\n",
    "    \n",
    "maxpoints([[1,1],[3,2],[5,3],[4,1],[2,3],[1,4]])"
   ]
  },
  {
   "cell_type": "markdown",
   "metadata": {},
   "source": [
    "### Q22: צור פונקתיה המקבלת סטרינג ומחזירה את גודל הסטרינגים המקסימליים שאפשר לחלק אותו ככה שכל תו יופיע רק בסטרינג אחד ושאם נצמיד את הסטרינגים אחד לשני נקבל את הסטרינג המקורי"
   ]
  },
  {
   "cell_type": "code",
   "execution_count": 10,
   "metadata": {},
   "outputs": [
    {
     "name": "stdout",
     "output_type": "stream",
     "text": [
      "[9, 7, 8]\n"
     ]
    }
   ],
   "source": [
    "def splitstr(str1):\n",
    "    list1 = list(str1)\n",
    "    valuecount = {}\n",
    "    ans = []\n",
    "    lenstr = 0\n",
    "    finalans = []\n",
    "    z = list1[-1]\n",
    "    for i in list1 :\n",
    "        if i not in valuecount.keys():\n",
    "            a = list1.count(i)\n",
    "            valuecount[i] = a\n",
    "    \n",
    "    for i in list1:\n",
    "        if len(ans) == 0:\n",
    "            ans.append(i)\n",
    "            lenstr += valuecount[i]  \n",
    "        elif len(valuecount) == 1:\n",
    "            finalans.append(len(list1))\n",
    "            break\n",
    "        elif i not in ans and lenstr != len(ans):\n",
    "            ans.append(i)\n",
    "            lenstr += valuecount[i]\n",
    "        elif lenstr != len(ans) and i != z:\n",
    "            ans.append(i)\n",
    "        elif i != z:\n",
    "            ans = \"\".join(ans)\n",
    "            finalans.append(len(ans))\n",
    "            ans = []\n",
    "            ans.append(i)\n",
    "            lenstr = valuecount[i]\n",
    "        else:\n",
    "            ans.append(i)\n",
    "            ans = \"\".join(ans)\n",
    "            finalans.append(len(ans))\n",
    "\n",
    "    print(finalans)\n",
    "            \n",
    "            \n",
    "\n",
    "\n",
    "splitstr(\"ababcbacadefegdehijhklij\")"
   ]
  },
  {
   "cell_type": "code",
   "execution_count": 11,
   "metadata": {},
   "outputs": [],
   "source": [
    "def solution(A):\n",
    "    A.sort()\n",
    "    orderlist = A\n",
    "    doublelist = []\n",
    "    for i in orderlist:\n",
    "        if i <= 0 :\n",
    "            orderlist.remove(i)\n",
    "    for i in orderlist :\n",
    "        if i not in doublelist:\n",
    "             doublelist.append(i)\n",
    "        else:\n",
    "            orderlist.remove(i)\n",
    "    j=0\n",
    "    for i in range(orderlist[0],len(orderlist)) :\n",
    "        if i !=orderlist[j]:\n",
    "            return i\n",
    "        j += 1\n",
    "solution([1,2,3,4])"
   ]
  },
  {
   "cell_type": "markdown",
   "metadata": {},
   "source": [
    "### Q23: צור פונקציה המקבלת רשימה של נקודות על מערכת צירים קרטזית, כיוון על המערכת צירים ורדיוס ומוציאה את מספר הנקודות שנמצאות בתוך טווח של 90 מעלות מפנס של שומר שעומד בראשית הצירים.\n",
    "### יש להניח שרדיוס הפנס זהה לרדיוס שניתן בקלט ושהפנס מאיר תמיד בזווית של 90 מעלות כלפי הכיוון מהקלט (דוגמא כיוון מעלה מאיר בין הזוויות 45 מעלות ל135 מעלות בכיוון החיובי של ציר y)"
   ]
  },
  {
   "cell_type": "code",
   "execution_count": 2,
   "metadata": {},
   "outputs": [
    {
     "name": "stdout",
     "output_type": "stream",
     "text": [
      "4\n"
     ]
    }
   ],
   "source": [
    "def solution(direction,radius, X, Y):\n",
    "    ans = 0\n",
    "    for i,j in zip(X,Y):\n",
    "        if ( i**2 + j**2 )**0.5 <= radius and i != 0 and abs(j/i) >= 1 :\n",
    "            ans += 1\n",
    "        elif direction == \"D\" and i == 0 and abs(j) <= radius and j<0:\n",
    "            ans += 1\n",
    "        elif direction == \"U\" and i == 0 and abs(j) <= radius and j>0:\n",
    "            ans += 1\n",
    "    return ans\n",
    "\n",
    "a = solution(\"D\",10,[0,-3,2,0],[-10,-3,-7,-5])\n",
    "print(a)\n",
    "    "
   ]
  },
  {
   "cell_type": "markdown",
   "metadata": {},
   "source": [
    "### Q24\n",
    "### צור פונקציה שמקבלת 2 סטרינגים ומחזירה את מספר התווים הזהים שנמצאים באותם אינדקסים"
   ]
  },
  {
   "cell_type": "code",
   "execution_count": 11,
   "metadata": {},
   "outputs": [
    {
     "name": "stdout",
     "output_type": "stream",
     "text": [
      "2\n"
     ]
    }
   ],
   "source": [
    "def sameletter(str1,str2):\n",
    "    if len(str1)>len(str2):\n",
    "        leng = len(str2)\n",
    "    else:\n",
    "        leng = len(str1)\n",
    "    for i in range(leng):\n",
    "        if str1[i] == str2[i] :\n",
    "            continue\n",
    "        else:\n",
    "            return i\n",
    "    return leng  \n",
    "\n",
    "a = sameletter(\"amitay\", \"am\")\n",
    "print(a)"
   ]
  },
  {
   "cell_type": "markdown",
   "metadata": {},
   "source": [
    "### Q25\n",
    "### כתבו פונקציה שמקבלת רשימה של סטרינגים ומחזירה את 2 הסטרינגים (שונים) הדומים ביותר מבחינת תווים"
   ]
  },
  {
   "cell_type": "code",
   "execution_count": 12,
   "metadata": {},
   "outputs": [
    {
     "name": "stdout",
     "output_type": "stream",
     "text": [
      "('limor', 'limori')\n"
     ]
    }
   ],
   "source": [
    "def stringlist (list1) :\n",
    "    dictstr = {}\n",
    "    for i in list1:\n",
    "        for j in reversed(list1):\n",
    "            if i != j :\n",
    "                leng = sameletter(i,j)\n",
    "                dictstr[f\"{i,j}\"] = leng\n",
    "            elif list1.index(j) != list1.index(i):\n",
    "                leng = sameletter(i,j)\n",
    "                dictstr[f\"{i,j}\"] = leng\n",
    "    maxval  = max(dictstr, key=dictstr.get) \n",
    "    return maxval\n",
    "    \n",
    "lst = [\"amit\",\"amir\",\"limor\",\"limori\",\"ronenie\",\"ronenie\"]    \n",
    "b = stringlist(lst) \n",
    "print(b)   "
   ]
  },
  {
   "cell_type": "markdown",
   "metadata": {},
   "source": [
    "### Q26\n",
    "### כתוב קוד שמחשב סינוס באמצעות רקורסיה"
   ]
  },
  {
   "cell_type": "code",
   "execution_count": null,
   "metadata": {},
   "outputs": [],
   "source": [
    "def sine(x, terms=10):\n",
    "    result = 0\n",
    "    for n in range(terms):\n",
    "        result += ((-1) ** n) * (x ** (2 * n + 1)) / factorial(2 * n + 1)\n",
    "    return result"
   ]
  },
  {
   "cell_type": "markdown",
   "metadata": {},
   "source": [
    "### Q27\n",
    "### כתוב קוד שמחשב קוסינוס באמצעות רקורסיה"
   ]
  },
  {
   "cell_type": "code",
   "execution_count": 13,
   "metadata": {},
   "outputs": [],
   "source": [
    "def cosine(x, terms=10):\n",
    "    result = 0\n",
    "    for n in range(terms):\n",
    "        result += ((-1) ** n) * (x ** (2 * n)) / factorial(2 * n)\n",
    "    return result"
   ]
  },
  {
   "cell_type": "markdown",
   "metadata": {},
   "source": [
    "### Q28\n",
    "### כתוב קוד שמחשב עצרת באמצעות רקורסיה"
   ]
  },
  {
   "cell_type": "code",
   "execution_count": 14,
   "metadata": {},
   "outputs": [],
   "source": [
    "def factorial(n):\n",
    "    if n == 0 or n == 1:\n",
    "        return 1\n",
    "    else:\n",
    "        return n * factorial(n-1)"
   ]
  },
  {
   "cell_type": "markdown",
   "metadata": {},
   "source": [
    "### Q29\n",
    "### כתוב קוד שמחשב עצרת באמצעות רקורסיה"
   ]
  },
  {
   "cell_type": "code",
   "execution_count": null,
   "metadata": {},
   "outputs": [],
   "source": [
    "def pi_machin(terms=10):\n",
    "    result = 0\n",
    "    for k in range(terms):\n",
    "        result += ((-1) ** k) / (2 * k + 1) * 4\n",
    "    return result"
   ]
  },
  {
   "cell_type": "markdown",
   "metadata": {},
   "source": [
    "### Q30\n",
    "### כתוב פונקציה שמקבלת סטרינג כקלט ומחזירה את התו שמופיע הכי הרבה פעמים"
   ]
  },
  {
   "cell_type": "code",
   "execution_count": null,
   "metadata": {},
   "outputs": [],
   "source": [
    "def most_popular_digit(num):\n",
    "    numnum = {}\n",
    "    num = str(num)\n",
    "    for key1 in num:\n",
    "        numnum[key1]=numnum.get(key1,0) + 1\n",
    "    values1 = numnum.values()\n",
    "    maxval1 = max(values1)\n",
    "    allkeys = numnum.keys()\n",
    "    maxkey = int(max(allkeys))\n",
    "    for i in reversed(range(10)):\n",
    "        # תנאי שמחפש את המפתח הכי גדול\n",
    "        if i == maxkey:\n",
    "            maxkey = str(maxkey)\n",
    "            # נגדיר את הערך של המפתח הכי גבוה\n",
    "            maxval2 = numnum.get(maxkey)\n",
    "            # השוואה בין הערך הכי גבוה לבין הערך של maxkey\n",
    "            if maxval1== maxval2 :\n",
    "                return maxkey \n",
    "            else:\n",
    "                maxkey = int(maxkey)\n",
    "                maxkey -= 1\n",
    "print(most_popular_digit(23452))\n",
    "print(most_popular_digit(138631))\n"
   ]
  },
  {
   "cell_type": "markdown",
   "metadata": {},
   "source": [
    "### Q31"
   ]
  },
  {
   "cell_type": "markdown",
   "metadata": {},
   "source": [
    "###   file_handle(input = \"\" ,filename =\"\" )\n",
    "### כתבו פונקציה (באופן שמופיע למעלה) שפותחת קובץ וקוראת אותו, אם הקובץ לא קיים הפונקציה תעלה חריגה ותיצור קובץ \n",
    "### ,תכתוב לתוכו את התוכן שבאינפוט ותחזיר מחרוזת שהקובץ לא היה קיים והוקם מחדש\n",
    "### אם הקובץ קיים, הפונקציה תחליף את סימני הפיסוק בקובץ '.' ',' ';' ברווחים, תספור ותשמור במילון כמה פעמים מופיעה\n",
    "### כל מילה ואח\"כ תחזיר את המילון. מילה הינה חלק מהמחרוזת המופרדת ברווח או במספר רווחים ממילים סמוכות לה.\n",
    "### הפונקציה תסגור את הקובץ בסיום"
   ]
  },
  {
   "cell_type": "code",
   "execution_count": 15,
   "metadata": {},
   "outputs": [],
   "source": [
    "def handle_file(filename='', input=''):\n",
    "    try:\n",
    "        if filename == '':\n",
    "            filename = \"q1.txt\"\n",
    "        with open(filename, 'r') as astr:\n",
    "            fileo = astr.read()\n",
    "            if fileo == '':\n",
    "                with open(filename, \"w\") as newdoc:\n",
    "                    newdoc.write(input)\n",
    "            return replaceAll(fileo,\" \")\n",
    "    except FileNotFoundError:\n",
    "        if filename != '':\n",
    "            with open(filename, \"w\") as newdoc2:\n",
    "                newdoc2.write(input)\n",
    "        else:\n",
    "            with open(\"q1.txt\", \"w\") as lastdoc:\n",
    "                if input != '':\n",
    "                    lastdoc.write(input)\n",
    "            if handle_file(\"q1.txt\") != {}:\n",
    "                return handle_file(\"q1.txt\")\n",
    "            else:\n",
    "                return \"File does not exist. Generated file q1.txt\"\n",
    "        return 'File does not exist. Generated file q1.txt'\n",
    "def replaceAll(string, replaceTo):\n",
    "    return \"\".join([(ch if ch not in set(\",.;\") else replaceTo) for ch in string])\n",
    "\n",
    "# print(\"Return value with no parameters:\\t \", handle_file())\n",
    "# fileInput = \"one, two, three, one;two;three; one.two.three many one;one,one;one and one more two\"\n",
    "# myFileName = \"myFile.txt\"\n",
    "# handle_file(filename=myFileName, input=fileInput)\n",
    "# output = handle_file(filename=myFileName)\n",
    "# print(\"The result dictionary of the generated file \",\n",
    "# myFileName, \" is:\\t\", output)\n",
    "# handle_file(input=fileInput)\n",
    "# output = handle_file()\n",
    "# print(\"The result dictionary of the generated file q1.txt is:\\t\", output)"
   ]
  },
  {
   "cell_type": "markdown",
   "metadata": {},
   "source": [
    "### Q32"
   ]
  },
  {
   "cell_type": "markdown",
   "metadata": {},
   "source": [
    "### כתבו פונקציה שמקבלת תאריך בפורמט \n",
    "###  yyyy/mm/dd או yyyy.mm.d\n",
    "### ומחזירה אמת או שקר אם הערך תקין\n",
    "### עבור ערך לא תקין הפונקציה תזרוק חריגה בהתאם : עבור שגיאה ביום/שנה/חודש היא תרשום\n",
    "### day is not in range\n",
    "### יש להתייחס גם למקרים בהם ישנה שנה מעוברת !!!"
   ]
  },
  {
   "cell_type": "code",
   "execution_count": 17,
   "metadata": {},
   "outputs": [
    {
     "name": "stdout",
     "output_type": "stream",
     "text": [
      "29/2/60  date is valid?  True\n",
      "29/03/2020  date is valid?  True\n",
      "Exception for date:\t 35/05/2020  day out of range \n",
      "Exception for date:\t 29/02/2021  day out of range \n",
      "Exception for date:\t 1/22/2020 month is not in range \n",
      "Exception for date:\t a/11/2020 invalid literal for int() with base 10: 'a'\n"
     ]
    }
   ],
   "source": [
    "_DAYS_IN_MONTH = [-1, 31, 28, 31, 30, 31, 30, 31, 31, 30, 31, 30, 31]\n",
    "\n",
    "# פונקציה שבודקת אם זה שנה מעוברת\n",
    "def _is_leap(year):\n",
    "    \"year -> 1 if leap year, else 0.\"\n",
    "    return year % 4 == 0 and (year % 100 != 0 or year % 400 == 0)\n",
    "\n",
    "# פונקציה שבודקת מסםר ימים בחודש\n",
    "def _days_in_month(year, month):\n",
    "    \"year, month -> number of days in that month in that year.\"\n",
    "    assert 1 <= month <= 12, month\n",
    "    if month == 2 and _is_leap(year):\n",
    "        return 29\n",
    "    return _DAYS_IN_MONTH[month]\n",
    "\n",
    "# פונקציה שבודקת תקלות\n",
    "def check_day_month_year(array, dateStr):\n",
    "    try:\n",
    "        day = int(array[0])\n",
    "        month = int(array[1])\n",
    "        year = int(array[2])\n",
    "    except Exception as e :\n",
    "         raise ValueError (e)\n",
    "    \n",
    "    if not 1 <= month <= 12:\n",
    "        raise ValueError('month is not in range ')\n",
    "    elif not 0 < year:\n",
    "        raise ValueError('year is not in range ')\n",
    "    else:\n",
    "        dim = _days_in_month(year, month)\n",
    "        if not 1 <= day <= dim:\n",
    "            raise ValueError(' day out of range ')\n",
    "    return True\n",
    "\n",
    "# פונקציה שבודקת שהרשימה של היום/חודש/שנה זה בדיוק 3 תאים\n",
    "def check_date(dateStr):\n",
    "  #cintains בודק אם הערך קיים בסטרינג שמתקבל \n",
    "    if dateStr.__contains__('.'):\n",
    "        tmp_date = dateStr.split(sep='.')\n",
    "        if len(tmp_date) != 3:\n",
    "            return False #or raise exception for wrong format\n",
    "\n",
    "    elif dateStr.__contains__('/'):\n",
    "        tmp_date = dateStr.split('/')\n",
    "        if len(tmp_date) != 3:\n",
    "            return False #or raise exception for wrong format\n",
    "    else:\n",
    "        return False\n",
    "\n",
    "    return check_day_month_year(tmp_date, dateStr)\n",
    "\n",
    "\n",
    "dateStr = '29/2/60'\n",
    "print(dateStr, ' date is valid? ', check_date(dateStr))\n",
    "dateStr = '29/03/2020'\n",
    "print(dateStr, ' date is valid? ', check_date(dateStr))\n",
    "try:\n",
    "    dateStr = \"35/05/2020\"\n",
    "    check_date(dateStr)\n",
    "except Exception as e:\n",
    "    print(\"Exception for date:\\t\", dateStr, e)\n",
    "try:\n",
    "    dateStr = \"29/02/2021\"\n",
    "    check_date(dateStr)\n",
    "except Exception as e:\n",
    "    print(\"Exception for date:\\t\", dateStr, e)\n",
    "try:\n",
    "    dateStr = \"1/22/2020\"\n",
    "    check_date(dateStr)\n",
    "except Exception as e:\n",
    "    print(\"Exception for date:\\t\", dateStr, e)\n",
    "try:\n",
    "    dateStr = \"a/11/2020\"\n",
    "    check_date(dateStr)\n",
    "except Exception as e:\n",
    "    print(\"Exception for date:\\t\", dateStr, e)"
   ]
  },
  {
   "cell_type": "markdown",
   "metadata": {},
   "source": [
    "### Q33\n",
    "### ממשו פונקציה רקורסיבית לחישוב סדרת פיבונאצי"
   ]
  },
  {
   "cell_type": "code",
   "execution_count": null,
   "metadata": {},
   "outputs": [],
   "source": [
    "def four_fibA (n):\n",
    "    if n==0 or n==1 or n==2 or n==3:\n",
    "        return n\n",
    "    return four_fibA(n-1) + four_fibA(n-2) + four_fibA(n-3) + four_fibA(n-4)"
   ]
  },
  {
   "cell_type": "markdown",
   "metadata": {},
   "source": [
    "### Q34"
   ]
  },
  {
   "cell_type": "markdown",
   "metadata": {},
   "source": [
    "### עליכם לטפס במעלה גרם מדרגות. בכל צעד טיפוס אתם יכולים לבחור אם לעלות מדרגה אחת בלבד או שתי\n",
    "### מדרגות בבת אחת. בכמה דרכים שונות ניתן לטפס לקצה גרם המדרגות?\n",
    "### כתבו פונקציה רקורסיבית שמקבלת את מספר המדרגות ומחזירה את מספר האפשרויות לטפס בהן"
   ]
  },
  {
   "cell_type": "code",
   "execution_count": 18,
   "metadata": {},
   "outputs": [],
   "source": [
    "num_dict = {1:1,2:2}\n",
    "\n",
    "# # נקבע מילון ראשוני עם 2 האופציות הבסיסיות שהפיתרון שלהן ידוע\n",
    "def combination_climb(n):\n",
    "    # נבדוק ע\"י תנאי ראשוני אם n במילון, במידה ולא נחשב ע\"י רקורסיה את הערך בסדר יורד\n",
    "    if n in num_dict.keys():\n",
    "        return num_dict[n]\n",
    "    nfinal = combination_climb(n-1)+combination_climb(n-2)\n",
    "    num_dict[n]= nfinal\n",
    "    return nfinal"
   ]
  }
 ],
 "metadata": {
  "kernelspec": {
   "display_name": "Python 3",
   "language": "python",
   "name": "python3"
  },
  "language_info": {
   "codemirror_mode": {
    "name": "ipython",
    "version": 3
   },
   "file_extension": ".py",
   "mimetype": "text/x-python",
   "name": "python",
   "nbconvert_exporter": "python",
   "pygments_lexer": "ipython3",
   "version": "3.8.3"
  }
 },
 "nbformat": 4,
 "nbformat_minor": 4
}
